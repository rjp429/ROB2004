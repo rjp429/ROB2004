{
 "cells": [
  {
   "cell_type": "code",
   "execution_count": null,
   "metadata": {},
   "outputs": [],
   "source": []
  },
  {
   "cell_type": "code",
   "execution_count": 9,
   "metadata": {},
   "outputs": [
    {
     "name": "stdout",
     "output_type": "stream",
     "text": [
      "array([[ 0.96472665,  0.26226868,  0.02275138, -0.02768273],\n",
      "       [ 0.25956298, -0.93322208, -0.24844234, -0.85604282],\n",
      "       [-0.04392656,  0.24558437, -0.96837946,  1.45797874],\n",
      "       [ 0.        ,  0.        ,  0.        ,  1.        ]])\n"
     ]
    }
   ],
   "source": [
    "import numpy as np\n",
    "\n",
    "T_1in6 = np.array([[0.37786601, -0.84547299, 0.37734958, -0.20259576], [0.65301483, -0.04555357, -0.75597387, -0.35260906], [0.65634511, 0.53207171, 0.53489326, 0.59195523], [0.00000000, 0.00000000, 0.00000000, 1.00000000]])\n",
    "T_2in1 = np.array([[0.50520491, -0.34911735, -0.78923068, 0.30575427], [-0.85084642, -0.04856099, -0.52316555, 0.33583556], [0.14432034, 0.93581991, -0.32157850, 0.90981626], [0.00000000, 0.00000000, 0.00000000, 1.00000000]])\n",
    "\n",
    "\n",
    "print(np.array_repr((T_1in6)@(T_2in1)))"
   ]
  },
  {
   "cell_type": "code",
   "execution_count": null,
   "metadata": {},
   "outputs": [],
   "source": []
  }
 ],
 "metadata": {
  "kernelspec": {
   "display_name": "Python 3",
   "language": "python",
   "name": "python3"
  },
  "language_info": {
   "codemirror_mode": {
    "name": "ipython",
    "version": 3
   },
   "file_extension": ".py",
   "mimetype": "text/x-python",
   "name": "python",
   "nbconvert_exporter": "python",
   "pygments_lexer": "ipython3",
   "version": "3.8.3"
  }
 },
 "nbformat": 4,
 "nbformat_minor": 4
}
