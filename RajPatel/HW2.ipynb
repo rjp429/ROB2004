{
 "cells": [
  {
   "cell_type": "code",
   "execution_count": 1,
   "metadata": {},
   "outputs": [],
   "source": [
    "import numpy as np\n",
    "import math as math\n",
    "import matplotlib.pylab as plt\n",
    "from mpl_toolkits.mplot3d import Axes3D\n",
    "from numpy import sin,cos,pi,exp,sqrt\n",
    "from mpl_toolkits.mplot3d.art3d import Poly3DCollection, Line3DCollection\n",
    "\n",
    "from ipywidgets import interact, interactive, fixed, interact_manual, FloatSlider\n",
    "import ipywidgets as widgets\n",
    "from IPython.display import display, Latex, Markdown\n",
    "\n",
    "#this is the library that contains all the rigid body tranforms functions\n",
    "import transforms\n",
    "import allfunc as fn"
   ]
  },
  {
   "cell_type": "code",
   "execution_count": 2,
   "metadata": {},
   "outputs": [
    {
     "name": "stdout",
     "output_type": "stream",
     "text": [
      "array([[-1.00000000e+00,  1.11022302e-16, -1.11022302e-16],\n",
      "       [-1.11022302e-16,  1.11022302e-16,  1.00000000e+00],\n",
      "       [ 1.11022302e-16,  1.00000000e+00, -1.11022302e-16]])\n"
     ]
    }
   ],
   "source": [
    "import numpy as np\n",
    "\n",
    "theta2 = np.pi/2\n",
    "theta3 = np.pi/2\n",
    "theta1 = np.pi/2\n",
    "\n",
    "\n",
    "# a rotation around z\n",
    "T_theta1 = transforms.T_exp(np.array([0,0,0]), theta1*np.array([0,1,0]))  #x\n",
    "# a rotation around y\n",
    "T_theta2 = transforms.T_exp(np.array([0,0,0]), theta2*np.array([0,1,0]))    #y\n",
    "# a rotation around x\n",
    "T_theta3 = transforms.T_exp(np.array([0,0,0]), theta3*np.array([0,0,1]))  #z\n",
    "    \n",
    "    \n",
    "T = T_theta2@T_theta3@T_theta1\n",
    "\n",
    "R, P = fn.TransToRp(T)\n",
    "\n",
    "print(np.array_repr(np.transpose(R)))\n",
    "    "
   ]
  },
  {
   "cell_type": "code",
   "execution_count": 8,
   "metadata": {},
   "outputs": [
    {
     "name": "stdout",
     "output_type": "stream",
     "text": [
      "array([[ 0.,  0.,  1., -4.],\n",
      "       [-1.,  0.,  0., -4.],\n",
      "       [ 0., -1.,  0.,  0.],\n",
      "       [ 0.,  0.,  0.,  1.]])\n"
     ]
    }
   ],
   "source": [
    "R = np.array([[0,0,1],\n",
    "              [-1,0,0],\n",
    "              [0,-1,0]])\n",
    "\n",
    "P = np.array([[-4,-4,0]])\n",
    "\n",
    "T = transforms.hom(R,P)\n",
    "\n",
    "print(np.array_repr(T))\n",
    "\n",
    "\n",
    "\n",
    "\n",
    "\n"
   ]
  },
  {
   "cell_type": "code",
   "execution_count": null,
   "metadata": {},
   "outputs": [],
   "source": []
  }
 ],
 "metadata": {
  "kernelspec": {
   "display_name": "Python 3",
   "language": "python",
   "name": "python3"
  },
  "language_info": {
   "codemirror_mode": {
    "name": "ipython",
    "version": 3
   },
   "file_extension": ".py",
   "mimetype": "text/x-python",
   "name": "python",
   "nbconvert_exporter": "python",
   "pygments_lexer": "ipython3",
   "version": "3.8.3"
  }
 },
 "nbformat": 4,
 "nbformat_minor": 4
}
