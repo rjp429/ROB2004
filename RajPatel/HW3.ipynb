{
 "cells": [
  {
   "cell_type": "code",
   "execution_count": 2,
   "metadata": {},
   "outputs": [],
   "source": [
    "import numpy as np\n",
    "import math as math\n",
    "import matplotlib.pylab as plt\n",
    "from mpl_toolkits.mplot3d import Axes3D\n",
    "from numpy import sin,cos,pi,exp,sqrt\n",
    "from mpl_toolkits.mplot3d.art3d import Poly3DCollection, Line3DCollection\n",
    "\n",
    "from ipywidgets import interact, interactive, fixed, interact_manual, FloatSlider\n",
    "import ipywidgets as widgets\n",
    "from IPython.display import display, Latex, Markdown\n",
    "\n",
    "#this is the library that contains all the rigid body tranforms functions\n",
    "import transforms\n",
    "import allfunc as fn"
   ]
  },
  {
   "cell_type": "code",
   "execution_count": 9,
   "metadata": {},
   "outputs": [
    {
     "name": "stdout",
     "output_type": "stream",
     "text": [
      "[ 0.7670146  -0.25154897  0.59026411]\n"
     ]
    }
   ],
   "source": [
    "\n",
    "\n",
    "R = np.array([[0.28429800, -0.73343736, 0.61744983], [0.06259641, -0.62845074, -0.77532661], [0.95669030, 0.25907395, -0.13275674]])\n",
    "\n",
    "w = fn.so3ToVec(fn.MatrixLog3(R))\n",
    "\n",
    "norm = np.sqrt((1.84204091)**2+(-0.604113)**2+(1.41756185)**2)\n",
    "wn = w/norm\n",
    "print(wn)\n"
   ]
  },
  {
   "cell_type": "code",
   "execution_count": 10,
   "metadata": {},
   "outputs": [
    {
     "name": "stdout",
     "output_type": "stream",
     "text": [
      "array([[ 0.        , -0.42461134,  0.61368655],\n",
      "       [ 0.42461134,  0.        ,  0.67999765],\n",
      "       [-0.61368655, -0.67999765,  0.        ]])\n"
     ]
    }
   ],
   "source": [
    "w = [-0.67999765, 0.61368655, 0.42461134]\n",
    "\n",
    "print(np.array_repr(fn.VecToso3(w)))\n",
    "\n",
    "\n"
   ]
  },
  {
   "cell_type": "code",
   "execution_count": null,
   "metadata": {},
   "outputs": [],
   "source": [
    "import numpy as np\n",
    "\n",
    "T_sb = np.array([[-0.49149800, -0.39128840, 0.77802513, -0.00791424], [-0.57514800, 0.81667549, 0.04739121, 0.60341557], [-0.65393768, -0.42418691, -0.62644311, -0.78039705], [0.00000000, 0.00000000, 0.00000000, 1.00000000]])\n",
    "V_sb_in_s = np.array([[-0.84892393], [0.30351397], [-0.62740668], [-0.06780123], [0.45784045], [1.11356592]])\n",
    "q_B = np.array([[-0.36707501], [1.72487417], [1.68678776], [1.00000000]])\n",
    "\n",
    "V_b = se3ToVec(np.linalg.inv(T_sb)@(VecTose3(V_sb_in_s))@T_sb)\n",
    "\n",
    "x_w = V_b[0][0]\n",
    "y_w = V_b[1][0]\n",
    "z_w = V_b[2][0]\n",
    "\n",
    "w = np.array([x_w, y_w, z_w])\n",
    "\n",
    "x_v = V_b[3][0]\n",
    "y_v = V_b[4][0]\n",
    "z_v = V_b[5][0]\n",
    "\n",
    "v = np.array([x_v, y_v, z_v])\n",
    "\n",
    "# print(transforms.to_skew(w))\n",
    "\n",
    "# printM = (se3ToVec(MatrixLog6(T_1in0)))\n",
    "printM = MatrixExp3(VecToso3(w))@q_B[:3]\n",
    "\n",
    "\n",
    "\n",
    "printM = (np.linalg.inv(T_sb)@(VecTose3(V_sb_in_s))@T_sb)@q_B\n",
    "\n",
    "\n",
    "print(\"[\", end =\"\")\n",
    "\n",
    "for row in (printM):\n",
    "    print(end =\" \")\n",
    "    for col in row[:len(row)-1]:\n",
    "        print(col, end =\", \")\n",
    "    print(row[len(row)-1],\", \")\n",
    "#     print(row,\"], \")\n",
    "print(\"]\")"
   ]
  },
  {
   "cell_type": "code",
   "execution_count": 11,
   "metadata": {},
   "outputs": [
    {
     "ename": "NameError",
     "evalue": "name 'makeAdj' is not defined",
     "output_type": "error",
     "traceback": [
      "\u001b[0;31m---------------------------------------------------------------------------\u001b[0m",
      "\u001b[0;31mNameError\u001b[0m                                 Traceback (most recent call last)",
      "\u001b[0;32m<ipython-input-11-7a40b544ce96>\u001b[0m in \u001b[0;36m<module>\u001b[0;34m\u001b[0m\n\u001b[1;32m     16\u001b[0m \u001b[0mq_B\u001b[0m \u001b[0;34m=\u001b[0m \u001b[0mnp\u001b[0m\u001b[0;34m.\u001b[0m\u001b[0marray\u001b[0m\u001b[0;34m(\u001b[0m\u001b[0;34m[\u001b[0m\u001b[0;34m[\u001b[0m\u001b[0;34m-\u001b[0m\u001b[0;36m1.04786443\u001b[0m\u001b[0;34m]\u001b[0m\u001b[0;34m,\u001b[0m \u001b[0;34m[\u001b[0m\u001b[0;34m-\u001b[0m\u001b[0;36m1.56375671\u001b[0m\u001b[0;34m]\u001b[0m\u001b[0;34m,\u001b[0m \u001b[0;34m[\u001b[0m\u001b[0;36m0.30064309\u001b[0m\u001b[0;34m]\u001b[0m\u001b[0;34m,\u001b[0m \u001b[0;34m[\u001b[0m\u001b[0;36m1.00000000\u001b[0m\u001b[0;34m]\u001b[0m\u001b[0;34m]\u001b[0m\u001b[0;34m)\u001b[0m\u001b[0;34m\u001b[0m\u001b[0;34m\u001b[0m\u001b[0m\n\u001b[1;32m     17\u001b[0m \u001b[0mT_bs\u001b[0m \u001b[0;34m=\u001b[0m \u001b[0mnp\u001b[0m\u001b[0;34m.\u001b[0m\u001b[0mlinalg\u001b[0m\u001b[0;34m.\u001b[0m\u001b[0minv\u001b[0m\u001b[0;34m(\u001b[0m\u001b[0mT_sb\u001b[0m\u001b[0;34m)\u001b[0m\u001b[0;34m\u001b[0m\u001b[0;34m\u001b[0m\u001b[0m\n\u001b[0;32m---> 18\u001b[0;31m \u001b[0mAd\u001b[0m \u001b[0;34m=\u001b[0m \u001b[0mmakeAdj\u001b[0m\u001b[0;34m(\u001b[0m\u001b[0mT_bs\u001b[0m\u001b[0;34m)\u001b[0m\u001b[0;34m\u001b[0m\u001b[0;34m\u001b[0m\u001b[0m\n\u001b[0m\u001b[1;32m     19\u001b[0m \u001b[0mV_b\u001b[0m \u001b[0;34m=\u001b[0m \u001b[0mnp\u001b[0m\u001b[0;34m.\u001b[0m\u001b[0mmatmul\u001b[0m\u001b[0;34m(\u001b[0m\u001b[0mAd\u001b[0m\u001b[0;34m,\u001b[0m \u001b[0mV_sb_in_s\u001b[0m\u001b[0;34m)\u001b[0m\u001b[0;34m\u001b[0m\u001b[0;34m\u001b[0m\u001b[0m\n\u001b[1;32m     20\u001b[0m \u001b[0mT\u001b[0m \u001b[0;34m=\u001b[0m \u001b[0mtwistToMatrix\u001b[0m\u001b[0;34m(\u001b[0m\u001b[0mV_b\u001b[0m\u001b[0;34m)\u001b[0m\u001b[0;34m\u001b[0m\u001b[0;34m\u001b[0m\u001b[0m\n",
      "\u001b[0;31mNameError\u001b[0m: name 'makeAdj' is not defined"
     ]
    }
   ],
   "source": [
    "def twistToMatrix(V):\n",
    "    omega = np.array([V[i] for i in range(3)])\n",
    "    vel = np.array([V[i] for i in range(3,6)])\n",
    "    w01 = omega\n",
    "    t = 1\n",
    "    w01_matrix = formSkewSymm(w01)\n",
    "    T = np.c_[w01_matrix, vel]\n",
    "    T = np.r_[T,[[0,0,0,0]] ]\n",
    "    return T\n",
    "T_sb = np.array([[0.67371517, 0.70932345, 0.20728751, -0.27189915], \n",
    "                 [-0.66726116, 0.70445204, -0.24188812, -0.82453819], \n",
    "                 [-0.31760102, 0.02464879, 0.94790402, -0.72079041], \n",
    "                 [0.00000000, 0.00000000, 0.00000000, 1.00000000]])\n",
    "\n",
    "V_sb_in_s = np.array([[-0.00902475], [0.07488817], [-0.51614565], [0.37954615], [-0.37525155], [0.27769225]])\n",
    "q_B = np.array([[-1.04786443], [-1.56375671], [0.30064309], [1.00000000]])\n",
    "T_bs = np.linalg.inv(T_sb)\n",
    "Ad = makeAdj(T_bs)\n",
    "V_b = np.matmul(Ad, V_sb_in_s)\n",
    "T = twistToMatrix(V_b)\n",
    "print(T)\n",
    "print(np.array_repr(np.matmul(T, q_B) ))\n",
    "\n"
   ]
  },
  {
   "cell_type": "code",
   "execution_count": 24,
   "metadata": {},
   "outputs": [
    {
     "ename": "ValueError",
     "evalue": "matmul: Input operand 1 has a mismatch in its core dimension 0, with gufunc signature (n?,k),(k,m?)->(n?,m?) (size 3 is different from 6)",
     "output_type": "error",
     "traceback": [
      "\u001b[0;31m---------------------------------------------------------------------------\u001b[0m",
      "\u001b[0;31mValueError\u001b[0m                                Traceback (most recent call last)",
      "\u001b[0;32m<ipython-input-24-a8c33c1665a6>\u001b[0m in \u001b[0;36m<module>\u001b[0;34m\u001b[0m\n\u001b[1;32m      4\u001b[0m \u001b[0mv_2\u001b[0m \u001b[0;34m=\u001b[0m \u001b[0mnp\u001b[0m\u001b[0;34m.\u001b[0m\u001b[0marray\u001b[0m\u001b[0;34m(\u001b[0m\u001b[0;34m[\u001b[0m\u001b[0;34m[\u001b[0m\u001b[0;36m0.54884595\u001b[0m\u001b[0;34m]\u001b[0m\u001b[0;34m,\u001b[0m \u001b[0;34m[\u001b[0m\u001b[0;34m-\u001b[0m\u001b[0;36m0.05387133\u001b[0m\u001b[0;34m]\u001b[0m\u001b[0;34m,\u001b[0m \u001b[0;34m[\u001b[0m\u001b[0;36m0.88709294\u001b[0m\u001b[0;34m]\u001b[0m\u001b[0;34m]\u001b[0m\u001b[0;34m)\u001b[0m\u001b[0;34m\u001b[0m\u001b[0;34m\u001b[0m\u001b[0m\n\u001b[1;32m      5\u001b[0m \u001b[0;34m\u001b[0m\u001b[0m\n\u001b[0;32m----> 6\u001b[0;31m \u001b[0mV_0\u001b[0m \u001b[0;34m=\u001b[0m \u001b[0mfn\u001b[0m\u001b[0;34m.\u001b[0m\u001b[0mAdjoint\u001b[0m\u001b[0;34m(\u001b[0m\u001b[0mT_02\u001b[0m\u001b[0;34m)\u001b[0m\u001b[0;34m@\u001b[0m\u001b[0mv_2\u001b[0m\u001b[0;34m\u001b[0m\u001b[0;34m\u001b[0m\u001b[0m\n\u001b[0m\u001b[1;32m      7\u001b[0m \u001b[0;34m\u001b[0m\u001b[0m\n\u001b[1;32m      8\u001b[0m \u001b[0;34m\u001b[0m\u001b[0m\n",
      "\u001b[0;31mValueError\u001b[0m: matmul: Input operand 1 has a mismatch in its core dimension 0, with gufunc signature (n?,k),(k,m?)->(n?,m?) (size 3 is different from 6)"
     ]
    }
   ],
   "source": [
    "import numpy as np\n",
    "\n",
    "T_02 = np.array([[-0.52336615, -0.17949695, 0.83298783, -0.48688017], [0.47535490, 0.74981175, 0.46023912, 0.22033626], [-0.70719558, 0.63683842, -0.30710134, -0.20697747], [0.00000000, 0.00000000, 0.00000000, 1.00000000]])\n",
    "v_2 = np.array([[0.54884595], [-0.05387133], [0.88709294],[0]])\n",
    "\n",
    "V_0 = fn.Adjoint(T_02)@v_2\n",
    "\n",
    "\n",
    "print(np.array_repr()\n"
   ]
  },
  {
   "cell_type": "code",
   "execution_count": 23,
   "metadata": {},
   "outputs": [
    {
     "name": "stdout",
     "output_type": "stream",
     "text": [
      "array([[ 0.2625682 ],\n",
      "       [-0.65349829],\n",
      "       [ 0.2451598 ]])\n"
     ]
    }
   ],
   "source": [
    "import numpy as np\n",
    "\n",
    "p_8in2 = np.array([[-0.31543701], [-0.67358802], [-0.05370352]])\n",
    "R_8in2 = np.array([[0.02445569, -0.72935367, -0.68369960], [0.44954349, -0.60283361, 0.65916787], [-0.89292361, -0.32347311, 0.31313348]])\n",
    "\n",
    "\n",
    "print(np.array_repr(-(np.linalg.inv(R_8in2))@p_8in2))\n"
   ]
  },
  {
   "cell_type": "code",
   "execution_count": 20,
   "metadata": {},
   "outputs": [
    {
     "name": "stdout",
     "output_type": "stream",
     "text": [
      "[[ 0.96472665  0.26226868  0.02275138 -0.02768273]\n",
      " [ 0.25956298 -0.93322208 -0.24844234 -0.85604282]\n",
      " [-0.04392656  0.24558437 -0.96837946  1.45797874]\n",
      " [ 0.          0.          0.          1.        ]]\n"
     ]
    }
   ],
   "source": [
    "\n",
    "\n",
    "import numpy as np\n",
    "\n",
    "T_1in6 = np.array([[0.37786601, -0.84547299, 0.37734958, -0.20259576], [0.65301483, -0.04555357, -0.75597387, -0.35260906], [0.65634511, 0.53207171, 0.53489326, 0.59195523], [0.00000000, 0.00000000, 0.00000000, 1.00000000]])\n",
    "T_2in1 = np.array([[0.50520491, -0.34911735, -0.78923068, 0.30575427], [-0.85084642, -0.04856099, -0.52316555, 0.33583556], [0.14432034, 0.93581991, -0.32157850, 0.90981626], [0.00000000, 0.00000000, 0.00000000, 1.00000000]])\n",
    "\n",
    "\n",
    "print((T_1in6)@(T_2in1))\n",
    "\n",
    "\n",
    "\n",
    "[[ 7.96326711e-04,  0.00000000e+00,  9.99999683e-01,\n",
    "         0.00000000e+00],\n",
    "       [ 0.00000000e+00,  1.00000000e+00,  0.00000000e+00,\n",
    "         0.00000000e+00],\n",
    "       [-9.99999683e-01,  0.00000000e+00,  7.96326711e-04,\n",
    "         0.00000000e+00],\n",
    "       [ 0.00000000e+00,  0.00000000e+00,  0.00000000e+00,\n",
    "         1.00000000e+00]]\n",
    "\n",
    "\n",
    "\n"
   ]
  },
  {
   "cell_type": "code",
   "execution_count": null,
   "metadata": {},
   "outputs": [],
   "source": []
  }
 ],
 "metadata": {
  "kernelspec": {
   "display_name": "Python 3",
   "language": "python",
   "name": "python3"
  },
  "language_info": {
   "codemirror_mode": {
    "name": "ipython",
    "version": 3
   },
   "file_extension": ".py",
   "mimetype": "text/x-python",
   "name": "python",
   "nbconvert_exporter": "python",
   "pygments_lexer": "ipython3",
   "version": "3.8.3"
  }
 },
 "nbformat": 4,
 "nbformat_minor": 4
}
