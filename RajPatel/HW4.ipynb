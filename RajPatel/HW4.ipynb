{
 "cells": [
  {
   "cell_type": "code",
   "execution_count": 1,
   "metadata": {},
   "outputs": [],
   "source": [
    "import numpy as np\n",
    "import math as math\n",
    "import matplotlib.pylab as plt\n",
    "from mpl_toolkits.mplot3d import Axes3D\n",
    "from numpy import sin,cos,pi,exp,sqrt\n",
    "from mpl_toolkits.mplot3d.art3d import Poly3DCollection, Line3DCollection\n",
    "\n",
    "from ipywidgets import interact, interactive, fixed, interact_manual, FloatSlider\n",
    "import ipywidgets as widgets\n",
    "from IPython.display import display, Latex, Markdown\n",
    "\n",
    "#this is the library that contains all the rigid body tranforms functions\n",
    "import transforms as tm\n",
    "import robot_kinematics as rk\n",
    "import allfunc as fn"
   ]
  },
  {
   "cell_type": "code",
   "execution_count": 2,
   "metadata": {},
   "outputs": [
    {
     "name": "stdout",
     "output_type": "stream",
     "text": [
      "array([[ 1.        ,  0.        ,  0.        ,  0.        ],\n",
      "       [ 0.        , -0.66686964, -0.7451744 ,  0.66626073],\n",
      "       [ 0.        ,  0.7451744 , -0.66686964,  3.4903488 ],\n",
      "       [ 0.        ,  0.        ,  0.        ,  1.        ]])\n"
     ]
    }
   ],
   "source": [
    "# q1\n",
    "\n",
    "t0a = rk.translate([0., 2., 2.])\n",
    "tab = tm.hom(tm.Rx(np.pi/2+0.73) , [0., 0., 0.])\n",
    "# tbc = rk.translate([0., 0., -.45])\n",
    "tb1 = rk.translate([0., 2., 0.])\n",
    "\n",
    "t01 = t0a@tab@tb1\n",
    "\n",
    "print(np.array_repr(t01))"
   ]
  },
  {
   "cell_type": "code",
   "execution_count": 3,
   "metadata": {},
   "outputs": [
    {
     "name": "stdout",
     "output_type": "stream",
     "text": [
      "array([[-0.93232735, -0.36161543,  0.        ,  0.        ],\n",
      "       [ 0.17678369, -0.45578881,  0.87235548,  1.21622623],\n",
      "       [-0.3154572 ,  0.81332087,  0.48887208,  5.57199294],\n",
      "       [ 0.        ,  0.        ,  0.        ,  1.        ]])\n"
     ]
    }
   ],
   "source": [
    "# q2\n",
    "\n",
    "theta = np.array([[0.18, 0.06, 0.50]])\n",
    "\n",
    "t0a = rk.translate([0., -2., 0.])\n",
    "tab = tm.hom(tm.Rx(-0.36) , [0., 0., 0.])\n",
    "\n",
    "tbc = rk.translate([0., 0., 2.])\n",
    "tcd = tm.hom(tm.Rx(-0.7), [0., 0., 0.])\n",
    "\n",
    "tde = rk.translate([0., -2., 2.])\n",
    "tef = tm.hom(tm.Rz(-0.37+np.pi), [0., 0., 0.])\n",
    "\n",
    "tf1 = rk.translate([0., 0., 2.])\n",
    "\n",
    "\n",
    "t01 = t0a@tab@tbc@tcd@tde@tef@tf1\n",
    "\n",
    "print(np.array_repr(t01))"
   ]
  },
  {
   "cell_type": "code",
   "execution_count": 4,
   "metadata": {},
   "outputs": [
    {
     "name": "stdout",
     "output_type": "stream",
     "text": [
      "array([[0],\n",
      "       [0],\n",
      "       [0],\n",
      "       [0],\n",
      "       [1],\n",
      "       [0]])\n"
     ]
    }
   ],
   "source": [
    "# q3\n",
    "\n",
    "j = np.array([[0], [0], [0], [0], [1], [0]])\n",
    "\n",
    "print(np.array_repr(j))"
   ]
  },
  {
   "cell_type": "code",
   "execution_count": 5,
   "metadata": {},
   "outputs": [
    {
     "name": "stdout",
     "output_type": "stream",
     "text": [
      "array([[-0. ],\n",
      "       [-0. ],\n",
      "       [-0. ],\n",
      "       [-0. ],\n",
      "       [-0.1],\n",
      "       [-0. ]])\n"
     ]
    }
   ],
   "source": [
    "# q4\n",
    "\n",
    "j = np.array([[0], [0], [0], [0], [1], [0]])\n",
    "dtheta = np.array([-0.1])\n",
    "\n",
    "print(np.array_repr(j*dtheta))"
   ]
  },
  {
   "cell_type": "code",
   "execution_count": 24,
   "metadata": {},
   "outputs": [
    {
     "name": "stdout",
     "output_type": "stream",
     "text": [
      "array([[ 0.0548205 ],\n",
      "       [ 0.39625312],\n",
      "       [-0.50259425],\n",
      "       [ 8.4955056 ],\n",
      "       [-1.60633111],\n",
      "       [-0.17099807]])\n"
     ]
    }
   ],
   "source": [
    "# q5\n",
    "\n",
    "import numpy as np\n",
    "\n",
    "theta = np.array([[-0.40000000], [-0.72000000], [-0.53000000], [-0.14000000], [0.23000000], [0.16000000], [0.10000000], [-0.04000000]])\n",
    "dtheta = np.array([[-0.30000000], [0.99000000], [0.42000000], [-0.30000000], [0.44000000], [0.75000000], [-0.50000000], [-0.35000000]])\n",
    "jacobian = np.array([[0.00000000, 0.00000000, 0.00000000, 0.00000000, 0.00000000, 1.00000000,  0.00000000, 0.99500417], [0.00000000, 0.00000000, 0.00000000, 0.00000000, 0.00000000, 0.00000000,  -0.98722728, -0.01590528], [0.00000000, 0.00000000, 0.00000000, 0.00000000, 0.00000000, 0.00000000,  -0.15931821, 0.09855827], [0.00000000, -1.00000000, 0.00000000, 1.00000000, 1.00000000, 0.00000000,  0.28084855, -0.58930916], [0.00000000, 0.00000000, 0.00000000, 0.00000000, 0.00000000, 0.93000000,  0.44768416, -0.93681766], [-1.00000000, 0.00000000, -1.00000000, 0.00000000, 0.00000000,  -4.00000000, -2.77410867, 5.79824209]])\n",
    "T_1in0 = np.array([[0.09975356, 0.99500417, -0.00399227, 4.80000833], [0.11891692, -0.01590528, -0.99277681, -5.90408340], [-0.98788056, 0.09855827, -0.11990944, -0.46606552], [0.00000000, 0.00000000, 0.00000000, 1.00000000]])\n",
    "\n",
    "print(np.array_repr(tm.adjoint(np.linalg.inv(T_1in0))@jacobian@dtheta))"
   ]
  },
  {
   "cell_type": "code",
   "execution_count": null,
   "metadata": {},
   "outputs": [],
   "source": []
  }
 ],
 "metadata": {
  "kernelspec": {
   "display_name": "Python 3",
   "language": "python",
   "name": "python3"
  },
  "language_info": {
   "codemirror_mode": {
    "name": "ipython",
    "version": 3
   },
   "file_extension": ".py",
   "mimetype": "text/x-python",
   "name": "python",
   "nbconvert_exporter": "python",
   "pygments_lexer": "ipython3",
   "version": "3.8.3"
  }
 },
 "nbformat": 4,
 "nbformat_minor": 4
}
