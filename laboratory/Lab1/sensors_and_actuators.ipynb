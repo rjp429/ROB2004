{
 "cells": [
  {
   "cell_type": "markdown",
   "metadata": {},
   "source": [
    "# Typical control loops with sensors and actuators\n",
    "\n",
    "We have seen in the previous notebook how to do simple simulation and record the state of the joints of the robot (position and velocity). We discuss here how we can make the robot move by sending motor commands.\n",
    "\n",
    "Every robot comes with a set of actuators that need to be controlled. Typically, a set of \"low-level\" controllers are available such that one can send a desired motor torque or a desired joint position and the robot controller will transform this into a current to modulate the rotation of an electric motor or the opening/closing of a pneumatic or hydraulic valve. This in turn will create a movement of the robot.\n",
    "\n",
    "In our class, we will assume that we can send a desired joint torque and that it will be achieved on the robot. PyBullet enables the same level of \"abstraction\" which is sufficient for most robot applications.\n",
    "\n",
    "We will now see how we can send desired motor torques to the robot. We have wrapped all the functionality needed from PyBullet into the class NYUFingerSimulator located in the file [nyu_finger_simulator.py](./nyu_finger_simulator.py)."
   ]
  },
  {
   "cell_type": "code",
   "execution_count": 1,
   "metadata": {},
   "outputs": [],
   "source": [
    "#setup nice plotting\n",
    "%matplotlib widget\n",
    "\n",
    "# we import useful libraries\n",
    "import time\n",
    "import numpy as np\n",
    "import matplotlib as mp\n",
    "import matplotlib.pyplot as plt\n",
    "\n",
    "# we import the helper class / we will use a similar class to work with the real robot\n",
    "from nyu_finger_simulator import NYUFingerSimulator"
   ]
  },
  {
   "cell_type": "code",
   "execution_count": 2,
   "metadata": {},
   "outputs": [],
   "source": [
    "# we can now create a robot simulation\n",
    "robot = NYUFingerSimulator()"
   ]
  },
  {
   "cell_type": "code",
   "execution_count": 3,
   "metadata": {},
   "outputs": [],
   "source": [
    "# we can now send a desired motor command and simulate the behavior of the robot\n",
    "# we send 0.1Nm on the first joint\n",
    "# we also record the measured state of the robot\n",
    "\n",
    "# we reset the simulation\n",
    "robot.reset_state([0.,0.,0.])\n",
    "\n",
    "# we simulate for 5 seconds\n",
    "run_time = 5.\n",
    "num_steps = int(run_time/robot.dt)\n",
    "\n",
    "measured_positions = np.zeros([num_steps,3])\n",
    "measured_velocities = np.zeros_like(measured_positions)\n",
    "desired_torques = np.zeros_like(measured_positions)\n",
    "time = np.zeros([num_steps])\n",
    "\n",
    "\n",
    "for i in range(num_steps):\n",
    "    # get the current time\n",
    "    time[i] = robot.dt * i\n",
    "    \n",
    "    # we get the position and velocities of the joints\n",
    "    q, dq = robot.get_state()\n",
    "    measured_positions[i,:] = q\n",
    "    measured_velocities[i,:] = dq\n",
    "    \n",
    "    # we compute the desired torques\n",
    "#     joint_torques = np.array([0.05*np.sin(2*np.pi*time[i]),0.,0.])\n",
    "    joint_torques = np.array([0.,0.04,0.04])\n",
    "    desired_torques[i,:] = joint_torques\n",
    "    \n",
    "    # we send them to the robot and do one simulation step\n",
    "    robot.send_joint_torque(joint_torques)\n",
    "    robot.step()    "
   ]
  },
  {
   "cell_type": "code",
   "execution_count": 4,
   "metadata": {},
   "outputs": [
    {
     "data": {
      "application/vnd.jupyter.widget-view+json": {
       "model_id": "53611c1697fd4b49a14b6cff486d47fe",
       "version_major": 2,
       "version_minor": 0
      },
      "text/plain": [
       "Canvas(toolbar=Toolbar(toolitems=[('Home', 'Reset original view', 'home', 'home'), ('Back', 'Back to previous …"
      ]
     },
     "metadata": {},
     "output_type": "display_data"
    },
    {
     "data": {
      "application/vnd.jupyter.widget-view+json": {
       "model_id": "15512b5a2dfe41a7adce5661b6e640c3",
       "version_major": 2,
       "version_minor": 0
      },
      "text/plain": [
       "Canvas(toolbar=Toolbar(toolitems=[('Home', 'Reset original view', 'home', 'home'), ('Back', 'Back to previous …"
      ]
     },
     "metadata": {},
     "output_type": "display_data"
    },
    {
     "data": {
      "text/plain": [
       "Text(0.5, 1.0, 'joint velocities')"
      ]
     },
     "execution_count": 4,
     "metadata": {},
     "output_type": "execute_result"
    }
   ],
   "source": [
    "# we plot the measured position and velocities of all the joints\n",
    "plt.figure(figsize=[6, 12])\n",
    "for i in range(3):\n",
    "    plt.subplot(3,1,i+1)\n",
    "    plt.plot(time, measured_positions[:,i])\n",
    "    plt.ylabel(robot.joint_names[i] + ' [rad]')\n",
    "plt.xlabel('Time[s]')\n",
    "plt.title('joint positions')\n",
    "\n",
    "plt.figure(figsize=[6, 12])\n",
    "for i in range(3):\n",
    "    plt.subplot(3,1,i+1)\n",
    "    plt.plot(time, measured_velocities[:,i])\n",
    "    plt.ylabel(robot.joint_names[i] + ' [rad/s]')\n",
    "plt.xlabel('Time[s]')\n",
    "plt.title('joint velocities')"
   ]
  },
  {
   "cell_type": "markdown",
   "metadata": {},
   "source": [
    "## A typical control loop\n",
    "\n",
    "Above we have seen a typical control loop:\n",
    "1. First read the sensors\n",
    "2. Compute the desired torque commands\n",
    "3. Send the commands to the motors\n",
    "4. Repeat periodically (typically at a rate of ~100Hz to 1KHz)\n",
    "\n",
    "The example was doing \"open loop\" control because we did not use the sensor measurement to compute the desired commands. \"Closed loop\" control will make use of the sensors to compute the control commands."
   ]
  },
  {
   "cell_type": "markdown",
   "metadata": {},
   "source": [
    "## Questions:\n",
    "(submit a pdf with detailed answers to these questions, including the plots through NYUClasses)\n",
    "1. What is the control rate that we used in this example in Hz?\n",
    "\n",
    "2. Describe the behavior of the robot when 0.1 Nm is applied to the 1st joint and 0 Nm applied to the others. What is the physical explanation for this behavior (in words)?\n",
    "\n",
    "3. What is the maximum constant torque that can be applied on the first joint before it hits the joint limit? (start from the same initial pose for the robot)\n",
    "\n",
    "4. Apply a periodic torque of $0.05\\sin(2\\pi t)$ Nm on the first joint. What do you observe? Join a plot of the position and velocity for each joint. (start from the same initial pose for the robot)"
   ]
  },
  {
   "cell_type": "code",
   "execution_count": null,
   "metadata": {},
   "outputs": [],
   "source": []
  }
 ],
 "metadata": {
  "kernelspec": {
   "display_name": "Python 3",
   "language": "python",
   "name": "python3"
  },
  "language_info": {
   "codemirror_mode": {
    "name": "ipython",
    "version": 3
   },
   "file_extension": ".py",
   "mimetype": "text/x-python",
   "name": "python",
   "nbconvert_exporter": "python",
   "pygments_lexer": "ipython3",
   "version": "3.8.3"
  }
 },
 "nbformat": 4,
 "nbformat_minor": 4
}
