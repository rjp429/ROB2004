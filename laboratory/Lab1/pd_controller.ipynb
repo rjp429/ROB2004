{
 "cells": [
  {
   "cell_type": "markdown",
   "metadata": {},
   "source": [
    "# Closing the loop with a PD controller\n",
    "\n",
    "We have seen in the previous notebook how to do a simple control loop that read sensors and applied torque commands. However, we did not use the sensor measurements to compute the torque commands.\n",
    "\n",
    "Now we would like to do our first closed-loop controller. We will design a simple Proportional-Derivative (PD) position controller. The goal of the controller is to compute a command that will move the joints of the robot to a desired position.\n",
    "\n",
    "Assume that we want the first joint, with measurement position $\\theta$, to move to the desired position $\\theta_{des}$. The idea is to apply a command proportional to the error between the measured and desired position (the P in PD controller). The  error is\n",
    "$$\\textrm{error} = (\\theta_{des} - \\theta)$$  and\n",
    "the controller will be $\\tau = P \\cdot \\textrm{error} = P (\\theta_{des} - \\theta)$ where $P$ is a constant.\n",
    "\n",
    "However, when using only a term proportional to the position, the controller will tend to create oscillations and get easily unstable (you can try!). It is then a good idea to add a term proportional to the time derivative of the error (the D term). \n",
    "The time derivative of the error is\n",
    "$$\\frac{d}{dt}\\textrm{error} = \\frac{d}{dt}(\\theta_{des} - \\theta) =  \\dot{\\theta}_{des} - \\dot{\\theta}$$\n",
    "\n",
    "So a PD controller takes the general form\n",
    "$\\tau = P (\\theta_{des} - \\theta) + D (\\dot{\\theta}_{des} - \\dot{\\theta})$\n",
    "where $P$ and $D$ are positive numbers called the **PD gains**\n",
    "Intuitively it applies a command that tries to follow at the same time a desired position and a desired velocity (which dampens fast oscillations).\n",
    "\n",
    "When we want to be in a static position, $\\dot{\\theta}_{des}$ will be 0, but if we want to follow a trajectory $\\theta_{des}(t)$ which varies over time, the derivative $\\dot{\\theta}_{des}(t)$ will not be 0 anymore."
   ]
  },
  {
   "cell_type": "code",
   "execution_count": 1,
   "metadata": {},
   "outputs": [],
   "source": [
    "#setup nice plotting\n",
    "%matplotlib widget\n",
    "\n",
    "# we import useful libraries\n",
    "import time\n",
    "import numpy as np\n",
    "import matplotlib as mp\n",
    "import matplotlib.pyplot as plt\n",
    "\n",
    "# we import the helper class / we will use a similar class to work with the real robot\n",
    "from nyu_finger_simulator import NYUFingerSimulator"
   ]
  },
  {
   "cell_type": "code",
   "execution_count": 2,
   "metadata": {},
   "outputs": [],
   "source": [
    "# we can now create a robot simulation\n",
    "robot = NYUFingerSimulator()"
   ]
  },
  {
   "cell_type": "code",
   "execution_count": 3,
   "metadata": {},
   "outputs": [],
   "source": [
    "# here is an example of a simple PD controller\n",
    "\n",
    "# we reset the simulation\n",
    "robot.reset_state([0.,0.,0.])\n",
    "\n",
    "# we simulate for 5 seconds\n",
    "run_time = 5.\n",
    "num_steps = int(run_time/robot.dt)\n",
    "\n",
    "# the PD gains\n",
    "P = np.array([1., 1., 1.])\n",
    "D = np.array([0.1, 0.05, 0.1])\n",
    "\n",
    "# the desired position\n",
    "# q_des = np.array([0.,0.,np.pi/2.])\n",
    "# dq_des = np.zeros_like(q_des) # the desired velocity here is 0\n",
    "\n",
    "# we store information\n",
    "measured_positions = np.zeros([num_steps,3])\n",
    "measured_velocities = np.zeros_like(measured_positions)\n",
    "desired_torques = np.zeros_like(measured_positions)\n",
    "time = np.zeros([num_steps])\n",
    "for i in range(num_steps):\n",
    "    # get the current time\n",
    "    time[i] = robot.dt * i\n",
    "    \n",
    "    # we get the position and velocities of the joints\n",
    "    q, dq = robot.get_state()\n",
    "    measured_positions[i,:] = q\n",
    "    measured_velocities[i,:] = dq\n",
    "    \n",
    "    q_des = np.array([0.,-0.8,1.6])\n",
    "#     q_des = np.array([np.sin(np.pi*time[i]),0.,np.cos(np.pi*time[i])])\n",
    "    dq_des = np.zeros_like(q_des)\n",
    "#     dq_des = np.array([np.pi*np.cos(np.pi*time[i]),0.,-np.pi*np.sin(np.pi*time[i])])\n",
    "    \n",
    "    error = q_des - q # the position error for all the joints (it's a 3D vector)\n",
    "    d_error = dq_des-dq # the velocity error for all the joints\n",
    "    \n",
    "    # we compute the desired torques as a PD controller\n",
    "    joint_torques = P * error + D * d_error\n",
    "    desired_torques[i,:] = joint_torques\n",
    "    \n",
    "    # we send them to the robot and do one simulation step\n",
    "    robot.send_joint_torque(joint_torques)\n",
    "    robot.step()    "
   ]
  },
  {
   "cell_type": "code",
   "execution_count": 4,
   "metadata": {},
   "outputs": [
    {
     "data": {
      "application/vnd.jupyter.widget-view+json": {
       "model_id": "c8843adac36a4ebfa874e2fe5b5ca76d",
       "version_major": 2,
       "version_minor": 0
      },
      "text/plain": [
       "Canvas(toolbar=Toolbar(toolitems=[('Home', 'Reset original view', 'home', 'home'), ('Back', 'Back to previous …"
      ]
     },
     "metadata": {},
     "output_type": "display_data"
    },
    {
     "data": {
      "application/vnd.jupyter.widget-view+json": {
       "model_id": "872a55335a2a46fab4305103986d93cf",
       "version_major": 2,
       "version_minor": 0
      },
      "text/plain": [
       "Canvas(toolbar=Toolbar(toolitems=[('Home', 'Reset original view', 'home', 'home'), ('Back', 'Back to previous …"
      ]
     },
     "metadata": {},
     "output_type": "display_data"
    },
    {
     "data": {
      "text/plain": [
       "Text(0.5, 1.0, 'joint velocities')"
      ]
     },
     "execution_count": 4,
     "metadata": {},
     "output_type": "execute_result"
    }
   ],
   "source": [
    "# we plot the measured position and velocities of all the joints\n",
    "# and add the desired values\n",
    "time = np.linspace(0., run_time, num=num_steps)\n",
    "plt.figure(figsize=[6, 12])\n",
    "for i in range(3):\n",
    "    plt.subplot(3,1,i+1)\n",
    "    plt.plot(time, measured_positions[:,i])\n",
    "    plt.plot(time, np.ones_like(time)*q_des[i],'--')\n",
    "    plt.ylabel(robot.joint_names[i] + ' [rad]')\n",
    "plt.xlabel('Time[s]')\n",
    "plt.title('joint positions')\n",
    "\n",
    "plt.figure(figsize=[6, 12])\n",
    "for i in range(3):\n",
    "    plt.subplot(3,1,i+1)\n",
    "    plt.plot(time, measured_velocities[:,i])\n",
    "    plt.plot(time, np.ones_like(time)*dq_des[i],'--')\n",
    "    plt.ylabel(robot.joint_names[i] + ' [rad/s]')\n",
    "plt.xlabel('Time[s]')\n",
    "plt.title('joint velocities')"
   ]
  },
  {
   "cell_type": "markdown",
   "metadata": {},
   "source": [
    "## Questions:\n",
    "(submit a pdf with detailed answers to these questions, including the plots through NYUClasses)\n",
    "\n",
    "1. Describe qualitatively what you observe when you increase/decrease P and D.\n",
    "\n",
    "2. Tune the P and D gains to have a good tracking of the positions $[0,0,\\frac{\\pi}{2}]$ without any oscillations. The P and D gains need not be the same for different joints. What gains did you find? Plot the position and velocities of each joints as a function of time with these gains. (starting from the original initial robot configuration).\n",
    "\n",
    "3. Use the PD controller to do the following task: keep the position of the first two joints fixed and follows the following position trajectory for the last joint $0.8 \\sin(\\pi t)$. Plot the results (positions and velocities as a function of time for all joints). Simulate for at least 10 seconds.\n",
    "\n",
    "4. Change the joint trajectories to get the robot to draw a circle in the air with its fingertip."
   ]
  },
  {
   "cell_type": "code",
   "execution_count": null,
   "metadata": {},
   "outputs": [],
   "source": []
  }
 ],
 "metadata": {
  "kernelspec": {
   "display_name": "Python 3",
   "language": "python",
   "name": "python3"
  },
  "language_info": {
   "codemirror_mode": {
    "name": "ipython",
    "version": 3
   },
   "file_extension": ".py",
   "mimetype": "text/x-python",
   "name": "python",
   "nbconvert_exporter": "python",
   "pygments_lexer": "ipython3",
   "version": "3.8.3"
  }
 },
 "nbformat": 4,
 "nbformat_minor": 4
}
